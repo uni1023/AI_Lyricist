{
 "cells": [
  {
   "cell_type": "markdown",
   "id": "usual-loading",
   "metadata": {},
   "source": [
    "4-4. 실습 (1) 데이터 다듬기\n",
    "\n"
   ]
  },
  {
   "cell_type": "code",
   "execution_count": 1,
   "id": "asian-giant",
   "metadata": {},
   "outputs": [
    {
     "name": "stdout",
     "output_type": "stream",
     "text": [
      "['First Citizen:', 'Before we proceed any further, hear me speak.', '', 'All:', 'Speak, speak.', '', 'First Citizen:', 'You are all resolved rather to die than to famish?', '']\n"
     ]
    }
   ],
   "source": [
    "import os, re \n",
    "import numpy as np\n",
    "import tensorflow as tf\n",
    "\n",
    "# 파일을 읽기모드로 열고\n",
    "# 라인 단위로 끊어서 list 형태로 읽어옵니다.\n",
    "file_path = os.getenv('HOME') + '/aiffel/lyricist/data/shakespeare.txt'\n",
    "with open(file_path, \"r\") as f:\n",
    "    raw_corpus = f.read().splitlines()\n",
    "\n",
    "# 앞에서부터 10라인만 화면에 출력해 볼까요?\n",
    "print(raw_corpus[:9])"
   ]
  },
  {
   "cell_type": "code",
   "execution_count": 2,
   "id": "driving-vertex",
   "metadata": {
    "scrolled": true
   },
   "outputs": [
    {
     "name": "stdout",
     "output_type": "stream",
     "text": [
      "Before we proceed any further, hear me speak.\n",
      "Speak, speak.\n",
      "You are all resolved rather to die than to famish?\n"
     ]
    }
   ],
   "source": [
    "for idx, sentence in enumerate(raw_corpus):\n",
    "    if len(sentence) == 0: continue   # 길이가 0인 문장은 건너뜁니다.\n",
    "    if sentence[-1] == \":\": continue  # 문장의 끝이 : 인 문장은 건너뜁니다.\n",
    "\n",
    "    if idx > 9: break   # 일단 문장 10개만 확인해 볼 겁니다.\n",
    "        \n",
    "    print(sentence)"
   ]
  },
  {
   "cell_type": "markdown",
   "id": "effective-transition",
   "metadata": {},
   "source": [
    "텍스트 분류 모델에서 많이 보신 것처럼 텍스트 생성 모델에도 단어 사전을 만들게 됩니다. 그렇다면 문장을 일정한 기준으로 쪼개야겠죠? 그 과정을 토큰화(Tokenize) 라고 합니다.\n",
    "\n",
    "가장 심플한 방법은 띄어쓰기를 기준으로 나누는 방법이고, 우리도 그 방법을 사용할 겁니다. 하지만 약간의 문제가 있을 수 있죠. 몇 가지 문제 케이스를 살펴보죠.\n",
    "\n",
    "Hi, my name is John. *(\"Hi,\" \"my\", ..., \"john.\" 으로 분리됨) - 문장부호\n",
    "First, open the first chapter. *(First와 first를 다른 단어로 인식) - 대소문자\n",
    "He is a ten-year-old boy. *(ten-year-old를 한 단어로 인식) - 특수문자\n",
    "\"1.\" 을 막기 위해 문장 부호 양쪽에 공백을 추가 할 거고요, \"2.\" 를 막기 위해 모든 문자들을 소문자로 변환 할 겁니다. \"3.\"을 막기 위해 특수문자들은 모두 제거 하도록 하죠!\n",
    "\n",
    "이런 전처리를 위해 정규표현식(Regex)을 이용한 필터링이 유용하게 사용됩니다.\n",
    "\n"
   ]
  },
  {
   "cell_type": "code",
   "execution_count": 3,
   "id": "chief-compact",
   "metadata": {},
   "outputs": [
    {
     "name": "stdout",
     "output_type": "stream",
     "text": [
      "<start> this is sample sentence . <end>\n"
     ]
    }
   ],
   "source": [
    "# 입력된 문장을\n",
    "#     1. 소문자로 바꾸고, 양쪽 공백을 지웁니다\n",
    "#     2. 특수문자 양쪽에 공백을 넣고\n",
    "#     3. 여러개의 공백은 하나의 공백으로 바꿉니다\n",
    "#     4. a-zA-Z?.!,¿가 아닌 모든 문자를 하나의 공백으로 바꿉니다\n",
    "#     5. 다시 양쪽 공백을 지웁니다\n",
    "#     6. 문장 시작에는 <start>, 끝에는 <end>를 추가합니다\n",
    "# 이 순서로 처리해주면 문제가 되는 상황을 방지할 수 있겠네요!\n",
    "def preprocess_sentence(sentence):\n",
    "    sentence = sentence.lower().strip() # 1\n",
    "    sentence = re.sub(r\"([?.!,¿])\", r\" \\1 \", sentence) # 2\n",
    "    sentence = re.sub(r'[\" \"]+', \" \", sentence) # 3\n",
    "    sentence = re.sub(r\"[^a-zA-Z?.!,¿]+\", \" \", sentence) # 4\n",
    "    sentence = sentence.strip() # 5\n",
    "    sentence = '<start> ' + sentence + ' <end>' # 6\n",
    "    return sentence\n",
    "\n",
    "# 이 문장이 어떻게 필터링되는지 확인해 보세요.\n",
    "print(preprocess_sentence(\"This @_is ;;;sample        sentence.\"))"
   ]
  },
  {
   "cell_type": "markdown",
   "id": "covered-marking",
   "metadata": {},
   "source": [
    "자연어처리 분야에서 모델의 입력이 되는 문장을 소스 문장(Source Sentence) , 정답 역할을 하게 될 모델의 출력 문장을 타겟 문장(Target Sentence) 라고 관례적으로 부릅니다. 각각 X_train, y_train 에 해당한다고 할 수 있겠죠?\n",
    "\n",
    "그렇다면 우리는 위에서 만든 정제 함수를 통해 만든 데이터셋에서 토큰화를 진행한 후 끝 단어 <end>를 없애면 소스 문장, 첫 단어 <start>를 없애면 타겟 문장이 되겠죠? 이 정제 함수를 활용해서 아래와 같이 정제 데이터를 구축합니다!"
   ]
  },
  {
   "cell_type": "code",
   "execution_count": 4,
   "id": "closing-decline",
   "metadata": {},
   "outputs": [
    {
     "data": {
      "text/plain": [
       "['<start> before we proceed any further , hear me speak . <end>',\n",
       " '<start> speak , speak . <end>',\n",
       " '<start> you are all resolved rather to die than to famish ? <end>',\n",
       " '<start> resolved . resolved . <end>',\n",
       " '<start> first , you know caius marcius is chief enemy to the people . <end>',\n",
       " '<start> we know t , we know t . <end>',\n",
       " '<start> let us kill him , and we ll have corn at our own price . <end>',\n",
       " '<start> is t a verdict ? <end>',\n",
       " '<start> no more talking on t let it be done away , away ! <end>',\n",
       " '<start> one word , good citizens . <end>']"
      ]
     },
     "execution_count": 4,
     "metadata": {},
     "output_type": "execute_result"
    }
   ],
   "source": [
    "# 여기에 정제된 문장을 모을겁니다\n",
    "corpus = []\n",
    "\n",
    "for sentence in raw_corpus:\n",
    "    # 우리가 원하지 않는 문장은 건너뜁니다\n",
    "    if len(sentence) == 0: continue\n",
    "    if sentence[-1] == \":\": continue\n",
    "    \n",
    "    # 정제를 하고 담아주세요\n",
    "    preprocessed_sentence = preprocess_sentence(sentence)\n",
    "    corpus.append(preprocessed_sentence)\n",
    "        \n",
    "# 정제된 결과를 10개만 확인해보죠\n",
    "corpus[:10]"
   ]
  },
  {
   "cell_type": "markdown",
   "id": "continuous-department",
   "metadata": {},
   "source": [
    "이제 데이터는 완벽하게 준비가 된 것 같네요!\n",
    "\n",
    "자, 새로운 언어를 배우는 상상을 해봅시다. 영어를 전혀 모르던 그 때로 돌아가서, 다시 영어를 배우려면 어떻게 해야 할까요? 영한사전 을 허리춤에 끼고 문장 속 단어를 하나하나 찾아가며 한국어 해석 을 적겠죠? 이 아이디어는 인공지능에게도 똑같이 적용됩니다. 배우고자 하는 언어 를 모국어로 표현 을 해야 공부를 할 수 있어요.\n",
    "\n",
    "인공지능의 모국어라면 단연 숫자 겠죠. 우리는 가르칠 언어(데이터)를 숫자로 변환해서 인공지능에게 줄 겁니다. 이에 필요한 것은 사전 ! 굳이 명명하자면... 데숫사전...?\n",
    "\n",
    "텐서플로우는 자연어 처리를 위한 여러 가지 모듈을 제공하는데, 우리도 그 모듈을 십분 활용할 겁니다! 아래에서 활용하게 될 tf.keras.preprocessing.text.Tokenizer 패키지는 정제된 데이터를 토큰화하고, 단어 사전(vocabulary 또는 dictionary라고 칭함)을 만들어주며, 데이터를 숫자로 변환까지 한 방에 해줍니다. 이 과정을 벡터화(vectorize) 라 하며, 숫자로 변환된 데이터를 텐서(tensor) 라고 칭합니다. 우리가 사용하는 텐서플로우로 만든 모델의 입출력 데이터는 실제로는 모두 이런 텐서로 변환되어 처리되는 것입니다."
   ]
  },
  {
   "cell_type": "code",
   "execution_count": 5,
   "id": "posted-horror",
   "metadata": {},
   "outputs": [
    {
     "name": "stdout",
     "output_type": "stream",
     "text": [
      "[[   2  143   40 ...    0    0    0]\n",
      " [   2  110    4 ...    0    0    0]\n",
      " [   2   11   50 ...    0    0    0]\n",
      " ...\n",
      " [   2  149 4553 ...    0    0    0]\n",
      " [   2   34   71 ...    0    0    0]\n",
      " [   2  945   34 ...    0    0    0]] <keras_preprocessing.text.Tokenizer object at 0x7f04f9629390>\n"
     ]
    }
   ],
   "source": [
    "# 토큰화 할 때 텐서플로우의 Tokenizer와 pad_sequences를 사용합니다\n",
    "# 더 잘 알기 위해 아래 문서들을 참고하면 좋습니다\n",
    "# https://www.tensorflow.org/api_docs/python/tf/keras/preprocessing/text/Tokenizer\n",
    "# https://www.tensorflow.org/api_docs/python/tf/keras/preprocessing/sequence/pad_sequences\n",
    "def tokenize(corpus):\n",
    "    # 7000단어를 기억할 수 있는 tokenizer를 만들겁니다\n",
    "    # 우리는 이미 문장을 정제했으니 filters가 필요없어요\n",
    "    # 7000단어에 포함되지 못한 단어는 '<unk>'로 바꿀거에요\n",
    "    tokenizer = tf.keras.preprocessing.text.Tokenizer(\n",
    "        num_words=7000, \n",
    "        filters=' ',\n",
    "        oov_token=\"<unk>\"\n",
    "    )\n",
    "    # corpus를 이용해 tokenizer 내부의 단어장을 완성합니다\n",
    "    tokenizer.fit_on_texts(corpus)\n",
    "    # 준비한 tokenizer를 이용해 corpus를 Tensor로 변환합니다\n",
    "    tensor = tokenizer.texts_to_sequences(corpus)   \n",
    "    # 입력 데이터의 시퀀스 길이를 일정하게 맞춰줍니다\n",
    "    # 만약 시퀀스가 짧다면 문장 뒤에 패딩을 붙여 길이를 맞춰줍니다.\n",
    "    # 문장 앞에 패딩을 붙여 길이를 맞추고 싶다면 padding='pre'를 사용합니다\n",
    "    tensor = tf.keras.preprocessing.sequence.pad_sequences(tensor, padding='post')  \n",
    "    \n",
    "    print(tensor,tokenizer)\n",
    "    return tensor, tokenizer\n",
    "\n",
    "tensor, tokenizer = tokenize(corpus)"
   ]
  },
  {
   "cell_type": "code",
   "execution_count": 6,
   "id": "noticed-barrel",
   "metadata": {},
   "outputs": [
    {
     "name": "stdout",
     "output_type": "stream",
     "text": [
      "[[   2  143   40  933  140  591    4  124   24  110]\n",
      " [   2  110    4  110    5    3    0    0    0    0]\n",
      " [   2   11   50   43 1201  316    9  201   74    9]]\n"
     ]
    }
   ],
   "source": [
    "print(tensor[:3, :10]) # 생성된 텐서 데이터를 3번째 행, 10번째 열까지만 출력해 봅시다."
   ]
  },
  {
   "cell_type": "markdown",
   "id": "acquired-twenty",
   "metadata": {},
   "source": [
    "텐서 데이터는 모두 정수로 이루어져 있습니다. 이 숫자는 다름 아니라, tokenizer에 구축된 단어 사전의 인덱스입니다. 단어 사전이 어떻게 구축되었는지 아래와 같이 확인해 봅시다."
   ]
  },
  {
   "cell_type": "code",
   "execution_count": 7,
   "id": "frozen-safety",
   "metadata": {},
   "outputs": [
    {
     "name": "stdout",
     "output_type": "stream",
     "text": [
      "1 : <unk>\n",
      "2 : <start>\n",
      "3 : <end>\n",
      "4 : ,\n",
      "5 : .\n",
      "6 : the\n",
      "7 : and\n",
      "8 : i\n",
      "9 : to\n",
      "10 : of\n"
     ]
    }
   ],
   "source": [
    "for idx in tokenizer.index_word:\n",
    "    print(idx, \":\", tokenizer.index_word[idx])\n",
    "\n",
    "    if idx >= 10: break # 인덱스가 10 이상이면 break"
   ]
  },
  {
   "cell_type": "markdown",
   "id": "fitted-peter",
   "metadata": {},
   "source": [
    "어떻습니까? 2번 인덱스가 바로 <start>였습니다. 왜 모든 행이 2로 시작하는지 이해할 수 있겠습니다.\n",
    "\n",
    "이제 생성된 텐서를 소스와 타겟으로 분리하여 모델이 학습할 수 있게 하겠습니다. 이 과정도 텐서플로우 가 제공하는 모듈을 사용할 것이니, 어떻게 사용하는지만 눈여겨 봐둡시다.\n",
    "\n",
    "텐서 출력부에서 행 뒤쪽에 0이 많이 나온 부분은 정해진 입력 시퀀스 길이보다 문장이 짧을 경우 0으로 패딩(padding)을 채워 넣은 것입니다. 사전에는 없지만 0은 바로 패딩 문자 <pad>가 될 것입니다."
   ]
  },
  {
   "cell_type": "code",
   "execution_count": 8,
   "id": "individual-georgia",
   "metadata": {},
   "outputs": [
    {
     "name": "stdout",
     "output_type": "stream",
     "text": [
      "[  2 143  40 933 140 591   4 124  24 110   5   3   0   0   0   0   0   0\n",
      "   0   0]\n",
      "[143  40 933 140 591   4 124  24 110   5   3   0   0   0   0   0   0   0\n",
      "   0   0]\n"
     ]
    }
   ],
   "source": [
    "# tensor에서 마지막 토큰을 잘라내서 소스 문장을 생성합니다\n",
    "# 마지막 토큰은 <end>가 아니라 <pad>일 가능성이 높습니다.\n",
    "src_input = tensor[:, :-1]  \n",
    "# tensor에서 <start>를 잘라내서 타겟 문장을 생성합니다.\n",
    "tgt_input = tensor[:, 1:]    \n",
    "\n",
    "print(src_input[0])\n",
    "print(tgt_input[0])"
   ]
  },
  {
   "cell_type": "markdown",
   "id": "executive-spectacular",
   "metadata": {},
   "source": [
    "corpus 내의 첫 번째 문장에 대해 생성된 소스와 타겟 문장을 확인해 보았습니다. 예상대로 소스는 2(<start>)에서 시작해서 3(<end>)으로 끝난 후 0(<pad>)로 채워져 있습니다. 하지만 타겟은 2로 시작하지 않고 소스를 왼쪽으로 한 칸 시프트 한 형태를 가지고 있습니다.\n",
    "\n",
    "마지막으로 우리는 데이터셋 객체를 생성할 것입니다. 그동안 우리는 model.fit(x_train, y_train, ...) 형태로 Numpy Array 데이터셋을 생성하여 model에 제공하는 형태의 학습을 많이 진행해 왔습니다. 그러나 텐서플로우를 활용할 경우 텐서로 생성된 데이터를 이용해 tf.data.Dataset객체를 생성하는 방법을 흔히 사용합니다. tf.data.Dataset객체는 텐서플로우에서 사용할 경우 데이터 입력 파이프라인을 통한 속도 개선 및 각종 편의 기능을 제공하므로 꼭 사용법을 알아 두시기를 권합니다. 우리는 이미 데이터셋을 텐서 형태로 생성해 두었으므로, tf.data.Dataset.from_tensor_slices() 메소드를 이용해 tf.data.Dataset객체를 생성할 것입니다."
   ]
  },
  {
   "cell_type": "code",
   "execution_count": 9,
   "id": "generic-admission",
   "metadata": {},
   "outputs": [
    {
     "data": {
      "text/plain": [
       "<BatchDataset shapes: ((256, 20), (256, 20)), types: (tf.int32, tf.int32)>"
      ]
     },
     "execution_count": 9,
     "metadata": {},
     "output_type": "execute_result"
    }
   ],
   "source": [
    "BUFFER_SIZE = len(src_input)\n",
    "BATCH_SIZE = 256\n",
    "steps_per_epoch = len(src_input) // BATCH_SIZE\n",
    "\n",
    " # tokenizer가 구축한 단어사전 내 7000개와, 여기 포함되지 않은 0:<pad>를 포함하여 7001개\n",
    "VOCAB_SIZE = tokenizer.num_words + 1   \n",
    "\n",
    "# 준비한 데이터 소스로부터 데이터셋을 만듭니다\n",
    "# 데이터셋에 대해서는 아래 문서를 참고하세요\n",
    "# 자세히 알아둘수록 도움이 많이 되는 중요한 문서입니다\n",
    "# https://www.tensorflow.org/api_docs/python/tf/data/Dataset\n",
    "dataset = tf.data.Dataset.from_tensor_slices((src_input, tgt_input))\n",
    "dataset = dataset.shuffle(BUFFER_SIZE)\n",
    "dataset = dataset.batch(BATCH_SIZE, drop_remainder=True)\n",
    "dataset"
   ]
  },
  {
   "cell_type": "markdown",
   "id": "statistical-algeria",
   "metadata": {},
   "source": [
    "이번 스텝에서 데이터셋을 생성하기 위해 거쳐 온 과정을 잘 기억해 두시길 바랍니다.\n",
    "\n",
    "- 정규표현식을 이용한 corpus 생성\n",
    "- tf.keras.preprocessing.text.Tokenizer를 이용해 corpus를 텐서로 변환\n",
    "- tf.data.Dataset.from_tensor_slices()를 이용해 corpus 텐서를 tf.data.Dataset객체로 변환\n",
    "\n",
    "dataset을 얻음으로써 데이터 다듬기 과정은 끝났습니다. tf.data.Dataset에서 제공하는 shuffle(), batch() 등 다양한 데이터셋 관련 기능을 손쉽게 이용할 수 있게 되었군요.\n",
    "\n",
    "이 모든 일련의 과정을 텐서플로우에서의 데이터 전처리 라 칭합니다!"
   ]
  },
  {
   "cell_type": "markdown",
   "id": "actual-worker",
   "metadata": {},
   "source": [
    "4-5. 실습 (2) 인공지능 학습시키기\n",
    "\n"
   ]
  },
  {
   "cell_type": "code",
   "execution_count": 10,
   "id": "educational-justice",
   "metadata": {},
   "outputs": [],
   "source": [
    "class TextGenerator(tf.keras.Model):\n",
    "    def __init__(self, vocab_size, embedding_size, hidden_size):\n",
    "        super().__init__()\n",
    "        \n",
    "        self.embedding = tf.keras.layers.Embedding(vocab_size, embedding_size)\n",
    "        self.rnn_1 = tf.keras.layers.LSTM(hidden_size, return_sequences=True)\n",
    "        self.rnn_2 = tf.keras.layers.LSTM(hidden_size, return_sequences=True)\n",
    "        self.linear = tf.keras.layers.Dense(vocab_size)\n",
    "        \n",
    "    def call(self, x):\n",
    "        out = self.embedding(x)\n",
    "        out = self.rnn_1(out)\n",
    "        out = self.rnn_2(out)\n",
    "        out = self.linear(out)\n",
    "        \n",
    "        return out\n",
    "    \n",
    "embedding_size = 256\n",
    "hidden_size = 1024\n",
    "model = TextGenerator(tokenizer.num_words + 1, embedding_size , hidden_size)"
   ]
  },
  {
   "cell_type": "markdown",
   "id": "cross-discount",
   "metadata": {},
   "source": [
    "텍스트 분류 모델을 다루어 보셨다면 Embedding 레이어의 역할에 대해서는 낯설지 않을 것입니다. 우리 입력 텐서에는 단어 사전의 인덱스가 들어 있습니다. Embedding 레이어는 이 인덱스 값을 해당 인덱스 번째의 워드 벡터로 바꿔 줍니다. 이 워드 벡터는 의미 벡터 공간에서 단어의 추상적 표현(representation)으로 사용됩니다.\n",
    "\n",
    "위 코드에서 embedding_size 는 워드 벡터의 차원수, 즉 단어가 추상적으로 표현되는 크기입니다. 만약 그 크기가 2라면 예를 들어\n",
    "\n",
    "- 차갑다: [0.0, 1.0]\n",
    "- 뜨겁다: [1.0, 0.0]\n",
    "- 미지근하다: [0.5, 0.5]\n",
    "\n",
    "정도의 구분이 가능하겠군요. 값이 커질수록 단어의 추상적인 특징들을 더 잡아낼 수 있지만, 그만큼 충분한 데이터가 주어지지 않으면 오히려 혼란만을 야기할 수 있습니다. 이번 실습에서는 256이 적당해 보이네요.\n",
    "\n",
    "LSTM 레이어의 hidden state 의 차원수인 hidden_size 도 같은 맥락입니다. hidden_size 는 모델에 얼마나 많은 일꾼을 둘 것인가? 로 이해해도 크게 엇나가지 않습니다. 그 일꾼들은 모두 같은 데이터를 보고 각자의 생각을 가지는데, 역시 충분한 데이터가 주어지면 올바른 결정을 내리겠지만 그렇지 않으면 배가 산으로 갈 뿐 입니다. 이번 실습에는 1024가 적당해보이는군요.\n",
    "\n",
    "우리의 model은 아직 제대로 build되지 않았습니다. model.compile()을 호출한 적도 없고, 아직 model의 입력 텐서가 무엇인지 제대로 지정해 주지도 않았기 때문입니다.\n",
    "그런 경우 아래와 같이 model에 데이터를 아주 조금 태워 보는 것도 방법입니다. model의 input shape가 결정되면서 model.build()가 자동으로 호출됩니다."
   ]
  },
  {
   "cell_type": "code",
   "execution_count": 11,
   "id": "prepared-apparel",
   "metadata": {},
   "outputs": [
    {
     "data": {
      "text/plain": [
       "<tf.Tensor: shape=(256, 20, 7001), dtype=float32, numpy=\n",
       "array([[[ 5.10321224e-05, -1.21536315e-04,  1.86351259e-04, ...,\n",
       "          2.54257111e-06,  2.56849424e-04,  8.17465916e-05],\n",
       "        [-1.52505585e-04,  1.36655770e-04,  3.52020434e-04, ...,\n",
       "         -2.23279421e-04,  6.16769306e-04,  2.22252274e-04],\n",
       "        [-8.72967430e-05,  3.35696619e-04,  4.74986766e-04, ...,\n",
       "         -5.45724724e-05,  6.84756786e-04,  1.78641436e-04],\n",
       "        ...,\n",
       "        [-1.42985873e-03,  1.33758225e-03,  1.40110380e-03, ...,\n",
       "          3.52989184e-04,  2.69040640e-04,  1.06144114e-03],\n",
       "        [-1.50609459e-03,  1.76364090e-03,  2.10960023e-03, ...,\n",
       "          2.68676988e-04,  2.15465523e-04,  1.60291081e-03],\n",
       "        [-1.59191224e-03,  2.15453026e-03,  2.75303214e-03, ...,\n",
       "          1.63100616e-04,  1.66759826e-04,  2.17933673e-03]],\n",
       "\n",
       "       [[ 5.10321224e-05, -1.21536315e-04,  1.86351259e-04, ...,\n",
       "          2.54257111e-06,  2.56849424e-04,  8.17465916e-05],\n",
       "        [-3.53112729e-04,  1.55648682e-04,  4.38572606e-04, ...,\n",
       "         -2.28087301e-04,  5.24818315e-04,  2.40224603e-04],\n",
       "        [-3.15420475e-04,  2.50823196e-05,  2.51258112e-04, ...,\n",
       "         -2.86937895e-04,  1.08228892e-03,  3.15914309e-04],\n",
       "        ...,\n",
       "        [-1.81485596e-03,  3.09099047e-03,  5.18323993e-03, ...,\n",
       "         -3.99951765e-04, -1.91613406e-04,  4.76422114e-03],\n",
       "        [-1.99648598e-03,  3.18180467e-03,  5.34095708e-03, ...,\n",
       "         -4.58006660e-04, -1.91174317e-04,  5.10567892e-03],\n",
       "        [-2.16811779e-03,  3.24319885e-03,  5.46461949e-03, ...,\n",
       "         -5.11433580e-04, -1.86295641e-04,  5.39840339e-03]],\n",
       "\n",
       "       [[ 5.10321224e-05, -1.21536315e-04,  1.86351259e-04, ...,\n",
       "          2.54257111e-06,  2.56849424e-04,  8.17465916e-05],\n",
       "        [ 1.63753793e-04,  1.76102738e-04, -2.80576816e-04, ...,\n",
       "         -2.02325518e-05,  6.86734507e-04,  2.01870178e-04],\n",
       "        [ 3.10831791e-04,  3.26048932e-04, -2.12513143e-04, ...,\n",
       "         -4.04212857e-04,  1.00532756e-03,  3.12295335e-04],\n",
       "        ...,\n",
       "        [-2.41319160e-03,  3.29640135e-03,  5.74505655e-03, ...,\n",
       "         -5.05524862e-04, -3.25159141e-04,  5.34178969e-03],\n",
       "        [-2.54937983e-03,  3.33205424e-03,  5.81009220e-03, ...,\n",
       "         -5.67253272e-04, -2.92173267e-04,  5.63098630e-03],\n",
       "        [-2.67456658e-03,  3.34864832e-03,  5.85768931e-03, ...,\n",
       "         -6.22714870e-04, -2.62221467e-04,  5.87153248e-03]],\n",
       "\n",
       "       ...,\n",
       "\n",
       "       [[ 5.10321224e-05, -1.21536315e-04,  1.86351259e-04, ...,\n",
       "          2.54257111e-06,  2.56849424e-04,  8.17465916e-05],\n",
       "        [-1.77655544e-04, -3.51058989e-04,  2.20417278e-05, ...,\n",
       "         -2.29236000e-04,  7.37782277e-04,  2.02973606e-04],\n",
       "        [-3.47889814e-04, -1.31098626e-04, -3.69446294e-04, ...,\n",
       "         -5.82063221e-04,  1.15767913e-03, -2.62138883e-06],\n",
       "        ...,\n",
       "        [-1.20329123e-03,  2.55263993e-03,  3.24934139e-03, ...,\n",
       "          2.17327703e-04, -7.03953148e-04,  2.10161018e-03],\n",
       "        [-1.33932952e-03,  2.77860346e-03,  3.78740556e-03, ...,\n",
       "          1.41383207e-04, -7.04190345e-04,  2.67143524e-03],\n",
       "        [-1.48780411e-03,  2.97035766e-03,  4.23355354e-03, ...,\n",
       "          5.62150890e-05, -6.84526400e-04,  3.22537730e-03]],\n",
       "\n",
       "       [[ 5.10321224e-05, -1.21536315e-04,  1.86351259e-04, ...,\n",
       "          2.54257111e-06,  2.56849424e-04,  8.17465916e-05],\n",
       "        [ 1.47515631e-04, -4.67267615e-04,  3.44442815e-04, ...,\n",
       "          5.08372796e-05,  3.66578432e-04,  6.50132642e-05],\n",
       "        [ 2.19472684e-04, -1.07420943e-04,  2.07214354e-04, ...,\n",
       "         -2.34197360e-04,  3.55117169e-04, -2.93335586e-04],\n",
       "        ...,\n",
       "        [-7.87347555e-04,  1.68918725e-03,  2.18245434e-03, ...,\n",
       "          4.38970950e-04, -4.92084539e-04,  1.87134414e-04],\n",
       "        [-9.58617544e-04,  1.96881266e-03,  2.84022419e-03, ...,\n",
       "          2.79320171e-04, -4.55011148e-04,  8.62563669e-04],\n",
       "        [-1.12931803e-03,  2.24293419e-03,  3.40839359e-03, ...,\n",
       "          1.20603341e-04, -4.21058707e-04,  1.57138554e-03]],\n",
       "\n",
       "       [[ 5.10321224e-05, -1.21536315e-04,  1.86351259e-04, ...,\n",
       "          2.54257111e-06,  2.56849424e-04,  8.17465916e-05],\n",
       "        [ 2.54341809e-04, -1.48446692e-04,  2.10106795e-04, ...,\n",
       "          8.62640154e-05,  5.74889302e-04, -8.71786615e-05],\n",
       "        [ 4.76129208e-04,  2.66299670e-04,  1.94854452e-04, ...,\n",
       "         -2.32879347e-06,  4.92860272e-04, -2.16721368e-04],\n",
       "        ...,\n",
       "        [-1.47326954e-03,  1.32682000e-03,  4.64823376e-03, ...,\n",
       "         -3.23745713e-04, -1.30341796e-03,  2.12140760e-04],\n",
       "        [-1.59348326e-03,  1.70083682e-03,  5.01474179e-03, ...,\n",
       "         -4.05581086e-04, -1.15571439e-03,  1.02037436e-03],\n",
       "        [-1.71936047e-03,  2.04854948e-03,  5.30699221e-03, ...,\n",
       "         -4.85629949e-04, -1.01405627e-03,  1.80447183e-03]]],\n",
       "      dtype=float32)>"
      ]
     },
     "execution_count": 11,
     "metadata": {},
     "output_type": "execute_result"
    }
   ],
   "source": [
    "# 데이터셋에서 데이터 한 배치만 불러오는 방법입니다.\n",
    "# 지금은 동작 원리에 너무 빠져들지 마세요~\n",
    "for src_sample, tgt_sample in dataset.take(1): break\n",
    "\n",
    "# 한 배치만 불러온 데이터를 모델에 넣어봅니다\n",
    "model(src_sample)"
   ]
  },
  {
   "cell_type": "markdown",
   "id": "decreased-intelligence",
   "metadata": {},
   "source": [
    "모델의 최종 출력 텐서 shape를 유심히 보면 shape=(256, 20, 7001)임을 알 수 있습니다. 7001은 Dense 레이어의 출력 차원수입니다. 7001개의 단어 중 어느 단어의 확률이 가장 높을지를 모델링해야 하기 때문입니다.\n",
    "256은 이전 스텝에서 지정한 배치 사이즈입니다. dataset.take(1)를 통해서 1개의 배치, 즉 256개의 문장 데이터를 가져온 것입니다.\n",
    "\n",
    "그렇다면 20은 무엇을 의미할까요? 비밀은 바로 tf.keras.layers.LSTM(hidden_size, return_sequences=True)로 호출한 LSTM 레이어에서 return_sequences=True이라고 지정한 부분에 있습니다. 즉, LSTM은 자신에게 입력된 시퀀스의 길이만큼 동일한 길이의 시퀀스를 출력한다는 의미입니다. 만약 return_sequences=False였다면 LSTM 레이어는 1개의 벡터만 출력했을 것입니다.\n",
    "\n",
    "그런데 문제는, 우리의 모델은 입력 데이터의 시퀀스 길이가 얼마인지 모른다는 점입니다. 모델을 만들면서 알려준 적도 없습니다. 그럼 20은 언제 알게된 것일까요? 네, 그렇습니다. 데이터를 입력받으면서 비로소 알게 된 것입니다. 우리 데이터셋의 max_len이 20으로 맞춰져 있었던 것입니다."
   ]
  },
  {
   "cell_type": "code",
   "execution_count": 12,
   "id": "qualified-meter",
   "metadata": {},
   "outputs": [
    {
     "name": "stdout",
     "output_type": "stream",
     "text": [
      "Model: \"text_generator\"\n",
      "_________________________________________________________________\n",
      "Layer (type)                 Output Shape              Param #   \n",
      "=================================================================\n",
      "embedding (Embedding)        multiple                  1792256   \n",
      "_________________________________________________________________\n",
      "lstm (LSTM)                  multiple                  5246976   \n",
      "_________________________________________________________________\n",
      "lstm_1 (LSTM)                multiple                  8392704   \n",
      "_________________________________________________________________\n",
      "dense (Dense)                multiple                  7176025   \n",
      "=================================================================\n",
      "Total params: 22,607,961\n",
      "Trainable params: 22,607,961\n",
      "Non-trainable params: 0\n",
      "_________________________________________________________________\n"
     ]
    }
   ],
   "source": [
    "model.summary()"
   ]
  },
  {
   "cell_type": "markdown",
   "id": "utility-period",
   "metadata": {},
   "source": [
    "이제 드디어 model.summary()를 호출할 수 있게 되었습니다. 그런데 호출해 보니 그동안 많이 보았던 것과는 다른 점이 있습니다. 우리가 궁금했던 Output Shape를 정확하게 알려주지 않습니다. 바로 위에서 설명한 이유 때문입니다. 우리의 모델은 입력 시퀀스의 길이를 모르기 때문에 Output Shape를 특정할 수 없는 것입니다.\n",
    "\n",
    "하지만 모델의 파라미터 사이즈는 측정됩니다. 대략 22million 정도 되는군요. 참고로 서두에 소개했던 GPT-2의 파라미터 사이즈는, 1.5billion입니다. 우리 모델의 100배까지는 안되더라도 수십배가 넘는군요. 놀라지 마세요. GPT-3의 파라미터 사이즈는 GPT-2의 100배니까요."
   ]
  },
  {
   "cell_type": "markdown",
   "id": "compatible-interview",
   "metadata": {},
   "source": [
    "학습엔 15분 정도 소요됩니다(GPU 환경 기준). 간단한 스트레칭과 커피 한 잔을 만들어 오기에 적당한 시간이죠.\n",
    "혹시라도 학습에 지나치게 많은 시간이 소요된다면 tf.test.is_gpu_available() 소스를 실행해 텐서플로우가 GPU를 잘 사용하고 있는지 확인하시길 바랍니다!"
   ]
  },
  {
   "cell_type": "code",
   "execution_count": 13,
   "id": "tropical-ownership",
   "metadata": {},
   "outputs": [
    {
     "name": "stdout",
     "output_type": "stream",
     "text": [
      "Epoch 1/30\n",
      "62/93 [===================>..........] - ETA: 11s - loss: 4.8105"
     ]
    },
    {
     "ename": "KeyboardInterrupt",
     "evalue": "",
     "output_type": "error",
     "traceback": [
      "\u001b[0;31m---------------------------------------------------------------------------\u001b[0m",
      "\u001b[0;31mKeyboardInterrupt\u001b[0m                         Traceback (most recent call last)",
      "\u001b[0;32m<ipython-input-13-53bb5dbd7ade>\u001b[0m in \u001b[0;36m<module>\u001b[0;34m\u001b[0m\n\u001b[1;32m     11\u001b[0m \u001b[0;34m\u001b[0m\u001b[0m\n\u001b[1;32m     12\u001b[0m \u001b[0mmodel\u001b[0m\u001b[0;34m.\u001b[0m\u001b[0mcompile\u001b[0m\u001b[0;34m(\u001b[0m\u001b[0mloss\u001b[0m\u001b[0;34m=\u001b[0m\u001b[0mloss\u001b[0m\u001b[0;34m,\u001b[0m \u001b[0moptimizer\u001b[0m\u001b[0;34m=\u001b[0m\u001b[0moptimizer\u001b[0m\u001b[0;34m)\u001b[0m\u001b[0;34m\u001b[0m\u001b[0;34m\u001b[0m\u001b[0m\n\u001b[0;32m---> 13\u001b[0;31m \u001b[0mmodel\u001b[0m\u001b[0;34m.\u001b[0m\u001b[0mfit\u001b[0m\u001b[0;34m(\u001b[0m\u001b[0mdataset\u001b[0m\u001b[0;34m,\u001b[0m \u001b[0mepochs\u001b[0m\u001b[0;34m=\u001b[0m\u001b[0;36m30\u001b[0m\u001b[0;34m)\u001b[0m\u001b[0;34m\u001b[0m\u001b[0;34m\u001b[0m\u001b[0m\n\u001b[0m",
      "\u001b[0;32m/opt/conda/lib/python3.7/site-packages/tensorflow/python/keras/engine/training.py\u001b[0m in \u001b[0;36mfit\u001b[0;34m(self, x, y, batch_size, epochs, verbose, callbacks, validation_split, validation_data, shuffle, class_weight, sample_weight, initial_epoch, steps_per_epoch, validation_steps, validation_batch_size, validation_freq, max_queue_size, workers, use_multiprocessing)\u001b[0m\n\u001b[1;32m   1098\u001b[0m                 _r=1):\n\u001b[1;32m   1099\u001b[0m               \u001b[0mcallbacks\u001b[0m\u001b[0;34m.\u001b[0m\u001b[0mon_train_batch_begin\u001b[0m\u001b[0;34m(\u001b[0m\u001b[0mstep\u001b[0m\u001b[0;34m)\u001b[0m\u001b[0;34m\u001b[0m\u001b[0;34m\u001b[0m\u001b[0m\n\u001b[0;32m-> 1100\u001b[0;31m               \u001b[0mtmp_logs\u001b[0m \u001b[0;34m=\u001b[0m \u001b[0mself\u001b[0m\u001b[0;34m.\u001b[0m\u001b[0mtrain_function\u001b[0m\u001b[0;34m(\u001b[0m\u001b[0miterator\u001b[0m\u001b[0;34m)\u001b[0m\u001b[0;34m\u001b[0m\u001b[0;34m\u001b[0m\u001b[0m\n\u001b[0m\u001b[1;32m   1101\u001b[0m               \u001b[0;32mif\u001b[0m \u001b[0mdata_handler\u001b[0m\u001b[0;34m.\u001b[0m\u001b[0mshould_sync\u001b[0m\u001b[0;34m:\u001b[0m\u001b[0;34m\u001b[0m\u001b[0;34m\u001b[0m\u001b[0m\n\u001b[1;32m   1102\u001b[0m                 \u001b[0mcontext\u001b[0m\u001b[0;34m.\u001b[0m\u001b[0masync_wait\u001b[0m\u001b[0;34m(\u001b[0m\u001b[0;34m)\u001b[0m\u001b[0;34m\u001b[0m\u001b[0;34m\u001b[0m\u001b[0m\n",
      "\u001b[0;32m/opt/conda/lib/python3.7/site-packages/tensorflow/python/eager/def_function.py\u001b[0m in \u001b[0;36m__call__\u001b[0;34m(self, *args, **kwds)\u001b[0m\n\u001b[1;32m    826\u001b[0m     \u001b[0mtracing_count\u001b[0m \u001b[0;34m=\u001b[0m \u001b[0mself\u001b[0m\u001b[0;34m.\u001b[0m\u001b[0mexperimental_get_tracing_count\u001b[0m\u001b[0;34m(\u001b[0m\u001b[0;34m)\u001b[0m\u001b[0;34m\u001b[0m\u001b[0;34m\u001b[0m\u001b[0m\n\u001b[1;32m    827\u001b[0m     \u001b[0;32mwith\u001b[0m \u001b[0mtrace\u001b[0m\u001b[0;34m.\u001b[0m\u001b[0mTrace\u001b[0m\u001b[0;34m(\u001b[0m\u001b[0mself\u001b[0m\u001b[0;34m.\u001b[0m\u001b[0m_name\u001b[0m\u001b[0;34m)\u001b[0m \u001b[0;32mas\u001b[0m \u001b[0mtm\u001b[0m\u001b[0;34m:\u001b[0m\u001b[0;34m\u001b[0m\u001b[0;34m\u001b[0m\u001b[0m\n\u001b[0;32m--> 828\u001b[0;31m       \u001b[0mresult\u001b[0m \u001b[0;34m=\u001b[0m \u001b[0mself\u001b[0m\u001b[0;34m.\u001b[0m\u001b[0m_call\u001b[0m\u001b[0;34m(\u001b[0m\u001b[0;34m*\u001b[0m\u001b[0margs\u001b[0m\u001b[0;34m,\u001b[0m \u001b[0;34m**\u001b[0m\u001b[0mkwds\u001b[0m\u001b[0;34m)\u001b[0m\u001b[0;34m\u001b[0m\u001b[0;34m\u001b[0m\u001b[0m\n\u001b[0m\u001b[1;32m    829\u001b[0m       \u001b[0mcompiler\u001b[0m \u001b[0;34m=\u001b[0m \u001b[0;34m\"xla\"\u001b[0m \u001b[0;32mif\u001b[0m \u001b[0mself\u001b[0m\u001b[0;34m.\u001b[0m\u001b[0m_experimental_compile\u001b[0m \u001b[0;32melse\u001b[0m \u001b[0;34m\"nonXla\"\u001b[0m\u001b[0;34m\u001b[0m\u001b[0;34m\u001b[0m\u001b[0m\n\u001b[1;32m    830\u001b[0m       \u001b[0mnew_tracing_count\u001b[0m \u001b[0;34m=\u001b[0m \u001b[0mself\u001b[0m\u001b[0;34m.\u001b[0m\u001b[0mexperimental_get_tracing_count\u001b[0m\u001b[0;34m(\u001b[0m\u001b[0;34m)\u001b[0m\u001b[0;34m\u001b[0m\u001b[0;34m\u001b[0m\u001b[0m\n",
      "\u001b[0;32m/opt/conda/lib/python3.7/site-packages/tensorflow/python/eager/def_function.py\u001b[0m in \u001b[0;36m_call\u001b[0;34m(self, *args, **kwds)\u001b[0m\n\u001b[1;32m    853\u001b[0m       \u001b[0;31m# In this case we have created variables on the first call, so we run the\u001b[0m\u001b[0;34m\u001b[0m\u001b[0;34m\u001b[0m\u001b[0;34m\u001b[0m\u001b[0m\n\u001b[1;32m    854\u001b[0m       \u001b[0;31m# defunned version which is guaranteed to never create variables.\u001b[0m\u001b[0;34m\u001b[0m\u001b[0;34m\u001b[0m\u001b[0;34m\u001b[0m\u001b[0m\n\u001b[0;32m--> 855\u001b[0;31m       \u001b[0;32mreturn\u001b[0m \u001b[0mself\u001b[0m\u001b[0;34m.\u001b[0m\u001b[0m_stateless_fn\u001b[0m\u001b[0;34m(\u001b[0m\u001b[0;34m*\u001b[0m\u001b[0margs\u001b[0m\u001b[0;34m,\u001b[0m \u001b[0;34m**\u001b[0m\u001b[0mkwds\u001b[0m\u001b[0;34m)\u001b[0m  \u001b[0;31m# pylint: disable=not-callable\u001b[0m\u001b[0;34m\u001b[0m\u001b[0;34m\u001b[0m\u001b[0m\n\u001b[0m\u001b[1;32m    856\u001b[0m     \u001b[0;32melif\u001b[0m \u001b[0mself\u001b[0m\u001b[0;34m.\u001b[0m\u001b[0m_stateful_fn\u001b[0m \u001b[0;32mis\u001b[0m \u001b[0;32mnot\u001b[0m \u001b[0;32mNone\u001b[0m\u001b[0;34m:\u001b[0m\u001b[0;34m\u001b[0m\u001b[0;34m\u001b[0m\u001b[0m\n\u001b[1;32m    857\u001b[0m       \u001b[0;31m# Release the lock early so that multiple threads can perform the call\u001b[0m\u001b[0;34m\u001b[0m\u001b[0;34m\u001b[0m\u001b[0;34m\u001b[0m\u001b[0m\n",
      "\u001b[0;32m/opt/conda/lib/python3.7/site-packages/tensorflow/python/eager/function.py\u001b[0m in \u001b[0;36m__call__\u001b[0;34m(self, *args, **kwargs)\u001b[0m\n\u001b[1;32m   2941\u001b[0m        filtered_flat_args) = self._maybe_define_function(args, kwargs)\n\u001b[1;32m   2942\u001b[0m     return graph_function._call_flat(\n\u001b[0;32m-> 2943\u001b[0;31m         filtered_flat_args, captured_inputs=graph_function.captured_inputs)  # pylint: disable=protected-access\n\u001b[0m\u001b[1;32m   2944\u001b[0m \u001b[0;34m\u001b[0m\u001b[0m\n\u001b[1;32m   2945\u001b[0m   \u001b[0;34m@\u001b[0m\u001b[0mproperty\u001b[0m\u001b[0;34m\u001b[0m\u001b[0;34m\u001b[0m\u001b[0m\n",
      "\u001b[0;32m/opt/conda/lib/python3.7/site-packages/tensorflow/python/eager/function.py\u001b[0m in \u001b[0;36m_call_flat\u001b[0;34m(self, args, captured_inputs, cancellation_manager)\u001b[0m\n\u001b[1;32m   1917\u001b[0m       \u001b[0;31m# No tape is watching; skip to running the function.\u001b[0m\u001b[0;34m\u001b[0m\u001b[0;34m\u001b[0m\u001b[0;34m\u001b[0m\u001b[0m\n\u001b[1;32m   1918\u001b[0m       return self._build_call_outputs(self._inference_function.call(\n\u001b[0;32m-> 1919\u001b[0;31m           ctx, args, cancellation_manager=cancellation_manager))\n\u001b[0m\u001b[1;32m   1920\u001b[0m     forward_backward = self._select_forward_and_backward_functions(\n\u001b[1;32m   1921\u001b[0m         \u001b[0margs\u001b[0m\u001b[0;34m,\u001b[0m\u001b[0;34m\u001b[0m\u001b[0;34m\u001b[0m\u001b[0m\n",
      "\u001b[0;32m/opt/conda/lib/python3.7/site-packages/tensorflow/python/eager/function.py\u001b[0m in \u001b[0;36mcall\u001b[0;34m(self, ctx, args, cancellation_manager)\u001b[0m\n\u001b[1;32m    558\u001b[0m               \u001b[0minputs\u001b[0m\u001b[0;34m=\u001b[0m\u001b[0margs\u001b[0m\u001b[0;34m,\u001b[0m\u001b[0;34m\u001b[0m\u001b[0;34m\u001b[0m\u001b[0m\n\u001b[1;32m    559\u001b[0m               \u001b[0mattrs\u001b[0m\u001b[0;34m=\u001b[0m\u001b[0mattrs\u001b[0m\u001b[0;34m,\u001b[0m\u001b[0;34m\u001b[0m\u001b[0;34m\u001b[0m\u001b[0m\n\u001b[0;32m--> 560\u001b[0;31m               ctx=ctx)\n\u001b[0m\u001b[1;32m    561\u001b[0m         \u001b[0;32melse\u001b[0m\u001b[0;34m:\u001b[0m\u001b[0;34m\u001b[0m\u001b[0;34m\u001b[0m\u001b[0m\n\u001b[1;32m    562\u001b[0m           outputs = execute.execute_with_cancellation(\n",
      "\u001b[0;32m/opt/conda/lib/python3.7/site-packages/tensorflow/python/eager/execute.py\u001b[0m in \u001b[0;36mquick_execute\u001b[0;34m(op_name, num_outputs, inputs, attrs, ctx, name)\u001b[0m\n\u001b[1;32m     58\u001b[0m     \u001b[0mctx\u001b[0m\u001b[0;34m.\u001b[0m\u001b[0mensure_initialized\u001b[0m\u001b[0;34m(\u001b[0m\u001b[0;34m)\u001b[0m\u001b[0;34m\u001b[0m\u001b[0;34m\u001b[0m\u001b[0m\n\u001b[1;32m     59\u001b[0m     tensors = pywrap_tfe.TFE_Py_Execute(ctx._handle, device_name, op_name,\n\u001b[0;32m---> 60\u001b[0;31m                                         inputs, attrs, num_outputs)\n\u001b[0m\u001b[1;32m     61\u001b[0m   \u001b[0;32mexcept\u001b[0m \u001b[0mcore\u001b[0m\u001b[0;34m.\u001b[0m\u001b[0m_NotOkStatusException\u001b[0m \u001b[0;32mas\u001b[0m \u001b[0me\u001b[0m\u001b[0;34m:\u001b[0m\u001b[0;34m\u001b[0m\u001b[0;34m\u001b[0m\u001b[0m\n\u001b[1;32m     62\u001b[0m     \u001b[0;32mif\u001b[0m \u001b[0mname\u001b[0m \u001b[0;32mis\u001b[0m \u001b[0;32mnot\u001b[0m \u001b[0;32mNone\u001b[0m\u001b[0;34m:\u001b[0m\u001b[0;34m\u001b[0m\u001b[0;34m\u001b[0m\u001b[0m\n",
      "\u001b[0;31mKeyboardInterrupt\u001b[0m: "
     ]
    }
   ],
   "source": [
    "# optimizer와 loss등은 차차 배웁니다\n",
    "# 혹시 미리 알고 싶다면 아래 문서를 참고하세요\n",
    "# https://www.tensorflow.org/api_docs/python/tf/keras/optimizers\n",
    "# https://www.tensorflow.org/api_docs/python/tf/keras/losses\n",
    "# 양이 상당히 많은 편이니 지금 보는 것은 추천하지 않습니다\n",
    "optimizer = tf.keras.optimizers.Adam()\n",
    "loss = tf.keras.losses.SparseCategoricalCrossentropy(\n",
    "    from_logits=True,\n",
    "    reduction='none'\n",
    ")\n",
    "\n",
    "model.compile(loss=loss, optimizer=optimizer)\n",
    "model.fit(dataset, epochs=30)"
   ]
  },
  {
   "cell_type": "markdown",
   "id": "noticed-jones",
   "metadata": {},
   "source": [
    "Loss는 모델이 오답을 만들고 있는 정도라고 생각하셔도 좋습니다(그렇다고 Loss가 1일 때 99%를 맞추고 있다는 의미는 아닙니다). 오답률이 감소하고 있으니 학습이 잘 진행되고 있다 고 해석할 수 있죠!\n",
    "\n",
    "학습이 완료되었다면 이제 모델을 평가해 봅시다."
   ]
  },
  {
   "cell_type": "markdown",
   "id": "stupid-handy",
   "metadata": {},
   "source": [
    "# 4-6. 실습 (3) 잘 만들어졌는지 평가하기\n",
    "\n",
    "모델이 작문을 잘하는지 컴퓨터 알고리즘이 평가하는 것은 무리가 있습니다. 만약에 그게 가능했다면 우리가 지금껏 해온 독후감 숙제를 컴퓨터가 채점했겠죠? 따라서 작문 모델을 평가하는 가장 확실한 방법은 작문을 시켜보고 직접 평가하는 겁니다. 아래 generate_text 함수는 모델에게 시작 문장을 전달하면 모델이 시작 문장을 바탕으로 작문을 진행하게 합니다.\n"
   ]
  },
  {
   "cell_type": "code",
   "execution_count": null,
   "id": "persistent-function",
   "metadata": {},
   "outputs": [],
   "source": [
    "def generate_text(model, tokenizer, init_sentence=\"<start>\", max_len=20):\n",
    "    # 테스트를 위해서 입력받은 init_sentence도 텐서로 변환합니다\n",
    "    test_input = tokenizer.texts_to_sequences([init_sentence])\n",
    "    test_tensor = tf.convert_to_tensor(test_input, dtype=tf.int64)\n",
    "    end_token = tokenizer.word_index[\"<end>\"]\n",
    "\n",
    "    # 단어 하나씩 예측해 문장을 만듭니다\n",
    "    #    1. 입력받은 문장의 텐서를 입력합니다\n",
    "    #    2. 예측된 값 중 가장 높은 확률인 word index를 뽑아냅니다\n",
    "    #    3. 2에서 예측된 word index를 문장 뒤에 붙입니다\n",
    "    #    4. 모델이 <end>를 예측했거나, max_len에 도달했다면 문장 생성을 마칩니다\n",
    "    while True:\n",
    "        # 1\n",
    "        predict = model(test_tensor) \n",
    "        # 2\n",
    "        predict_word = tf.argmax(tf.nn.softmax(predict, axis=-1), axis=-1)[:, -1] \n",
    "        # 3 \n",
    "        test_tensor = tf.concat([test_tensor, tf.expand_dims(predict_word, axis=0)], axis=-1)\n",
    "        # 4\n",
    "        if predict_word.numpy()[0] == end_token: break\n",
    "        if test_tensor.shape[1] >= max_len: break\n",
    "\n",
    "    generated = \"\"\n",
    "    # tokenizer를 이용해 word index를 단어로 하나씩 변환합니다 \n",
    "    for word_index in test_tensor[0].numpy():\n",
    "        generated += tokenizer.index_word[word_index] + \" \"\n",
    "\n",
    "    return generated"
   ]
  },
  {
   "cell_type": "markdown",
   "id": "comparable-cycling",
   "metadata": {},
   "source": [
    "텍스트를 생성하는 함수 안을 들여다보면 while문이 하나 자리 잡고 있는 것을 볼 수 있습니다. 왜 그럴까요?\n",
    "\n",
    "학습 단계에서 우리는 이런 while 문이 필요 없었습니다. 소스 문장과 타겟 문장이 있었고, 우리는 소스 문장을 모델에 입력해서 나온 결과를 타겟 문장과 직접 비교하면 그만이었습니다.\n",
    "그러나 텍스트를 실제로 생성해야 하는 시점에서, 우리에게는 2가지가 없습니다. 하나는 타겟 문장입니다. 또 하나는 무엇이냐 하면, 소스 문장입니다. 생각해 보면 우리는 텍스트 생성 태스크를 위해 테스트 데이터셋을 따로 생성한 적이 없습니다.\n",
    "\n",
    "generate_text() 함수에서 init_sentence를 인자로 받고는 있습니다. 이렇게 받은 인자를 일단 텐서로 만들고 있습니다. 디폴트로는 <start> 단어 하나만 받는군요.\n",
    "\n",
    "- while의 첫 번째 루프에서 test_tensor에 <start> 하나만 들어갔다고 합시다. 우리의 모델이 출력으로 7001개의 단어 중 A를 골랐다고 합시다.\n",
    "- while의 두 번째 루프에서 test_tensor에는 <start> A가 들어갑니다. 그래서 우리의 모델이 그다음 B를 골랐다고 합시다.\n",
    "- while의 세 번째 루프에서 test_tensor에는 <start> A B가 들어갑니다. 그래서..... (이하 후략)"
   ]
  },
  {
   "cell_type": "code",
   "execution_count": null,
   "id": "fluid-benjamin",
   "metadata": {},
   "outputs": [],
   "source": [
    "generate_text(model, tokenizer, init_sentence=\"<start> he\")"
   ]
  },
  {
   "cell_type": "markdown",
   "id": "knowing-vietnam",
   "metadata": {},
   "source": [
    "제법 멋진 문장을 생성해냈군요! 위 함수의 init_sentence 를 바꿔가며 이런저런 실험을 해보세요! 단, <start>를 빼먹지는 않도록 합시다."
   ]
  },
  {
   "cell_type": "markdown",
   "id": "limiting-factor",
   "metadata": {},
   "source": [
    "# 4-7. 프로젝트: 멋진 작사가 만들기\n",
    "\n",
    "## Step 1. 데이터 다운로드\n",
    "\n",
    "이미 실습(1) 데이터 다듬기에서 Cloud shell에 심볼릭 링크로 \n",
    "~/aiffel/lyricist/data를 생성하셨다면, \n",
    "~/aiffel/lyricist/data/lyrics에 데이터가 있습니다.\n",
    "\n",
    "\n",
    "## Step 2. 데이터 읽어오기\n",
    "\n",
    "glob 모듈을 사용하면 파일을 읽어오는 작업을 하기가 아주 용이해요. \n",
    "glob 를 활용하여 모든 txt 파일을 읽어온 후, \n",
    "raw_corpus 리스트에 문장 단위로 저장하도록 할게요!\n",
    "\n",
    "## Step 3. 데이터 정제\n",
    "\n",
    "앞서 배운 테크닉들을 활용해 문장 생성에 적합한 모양새로 데이터를 정제하세요!\n",
    "\n",
    "preprocess_sentence() 함수를 만든 것을 기억하시죠? 이를 활용해 데이터를 정제하도록 하겠습니다.\n",
    "\n",
    "추가로 지나치게 긴 문장은 다른 데이터들이 과도한 Padding을 갖게 하므로 제거합니다. 너무 긴 문장은 노래 가사 작사하기에 어울리지 않을 수도 있겠죠.\n",
    "그래서 이번에는 문장을 토큰화 했을 때 토큰의 개수가 15개를 넘어가는 문장을 학습 데이터에서 제외하기 를 권합니다.\n",
    "\n",
    "## Step 4. 평가 데이터셋 분리\n",
    "\n",
    "훈련 데이터와 평가 데이터를 분리하세요!\n",
    "\n",
    "tokenize() 함수로 데이터를 Tensor로 변환한 후, sklearn 모듈의 train_test_split() 함수를 사용해 훈련 데이터와 평가 데이터를 분리하도록 하겠습니다. 단어장의 크기는 12,000 이상 으로 설정하세요! 총 데이터의 20% 를 평가 데이터셋으로 사용해 주세요!\n",
    "\n",
    "## Step 5. 인공지능 만들기\n",
    "\n",
    "모델의 Embedding Size와 Hidden Size를 조절하며 10 Epoch 안에 val_loss 값을 2.2 수준으로 줄일 수 있는 모델을 설계하세요! (Loss는 아래 제시된 Loss 함수를 그대로 사용!)\n",
    "\n",
    "그리고 멋진 모델이 생성한 가사 한 줄을 제출하시길 바랍니다!\n",
    "\n"
   ]
  },
  {
   "cell_type": "markdown",
   "id": "olympic-hamburg",
   "metadata": {},
   "source": [
    "## Step 1. 데이터 다운로드\n",
    "\n",
    "이미 실습(1) 데이터 다듬기에서 Cloud shell에 심볼릭 링크로 \n",
    "~/aiffel/lyricist/data를 생성하셨다면, \n",
    "~/aiffel/lyricist/data/lyrics에 데이터가 있습니다."
   ]
  },
  {
   "cell_type": "markdown",
   "id": "terminal-ranch",
   "metadata": {},
   "source": [
    "## Step 2. 데이터 읽어오기"
   ]
  },
  {
   "cell_type": "code",
   "execution_count": 14,
   "id": "covered-twelve",
   "metadata": {},
   "outputs": [
    {
     "name": "stdout",
     "output_type": "stream",
     "text": [
      "데이터 크기: 187088\n",
      "Examples:\n",
      " ['[Hook]', \"I've been down so long, it look like up to me\", 'They look up to me', \"I got fake people showin' fake love to me\", 'Straight up to my face, straight up to my face', \"I've been down so long, it look like up to me\", 'They look up to me', \"I got fake people showin' fake love to me\", 'Straight up to my face, straight up to my face [Verse 1]', \"Somethin' ain't right when we talkin'\"]\n"
     ]
    }
   ],
   "source": [
    "import glob\n",
    "import os\n",
    "import re\n",
    "\n",
    "# Step 1. 데이터 다운로드\n",
    "# 이미 실습(1) 데이터 다듬기에서 Cloud shell에 심볼릭 링크로 \n",
    "# ~/aiffel/lyricist/data를 생성하셨다면, \n",
    "# ~/aiffel/lyricist/data/lyrics에 데이터가 있습니다.\n",
    "\n",
    "# Step 2. 데이터 읽어오기\n",
    "# glob 모듈을 사용하면 파일을 읽어오는 작업을 하기가 아주 용이해요. \n",
    "# glob 를 활용하여 모든 txt 파일을 읽어온 후, \n",
    "# raw_corpus 리스트에 문장 단위로 저장하도록 할게요!\n",
    "\n",
    "txt_file_path = os.getenv('HOME')+'/aiffel/lyricist/data/lyrics/*'\n",
    "txt_list = glob.glob(txt_file_path)\n",
    "\n",
    "raw_corpus = [] # corpus의 뜻은 말뭉치\n",
    "\n",
    "# 여러개의 txt 파일을 모두 읽어서 raw_corpus 에 담습니다.\n",
    "for txt_file in txt_list:\n",
    "    with open(txt_file, \"r\") as f:\n",
    "        raw = f.read().splitlines() # raw 에 읽어온 파일을 잘라서 넣음\n",
    "        raw_corpus.extend(raw)\n",
    "\n",
    "print(\"데이터 크기:\", len(raw_corpus)) # 데이터 크기 : 11176 raw_corpus의 리스트 개수 출력\n",
    "print(\"Examples:\\n\", raw_corpus[:10]) # 앞에서 9 라인만 화면에 출력"
   ]
  },
  {
   "cell_type": "markdown",
   "id": "rural-behalf",
   "metadata": {},
   "source": [
    "\n",
    "## Step 3. 데이터 정제\n",
    "\n",
    "### 3-1. preprocess_sentence() 함수제작\n",
    "\n",
    "앞서 배운 테크닉들을 활용해 문장 생성에 적합한 모양새로 데이터를 정제하세요!\n",
    "preprocess_sentence() 함수를 만든 것을 기억하시죠? \n",
    "이를 활용해 데이터를 정제하도록 하겠습니다.\n",
    "추가로 지나치게 긴 문장은 다른 데이터들이 과도한 Padding을 갖게 하므로 제거합니다. \n",
    "너무 긴 문장은 노래 가사 작사하기에 어울리지 않을 수도 있겠죠. \n",
    "그래서 이번에는 문장을 토큰화 했을 때 \n",
    "토큰의 개수가 15개를 넘어가는 문장을 학습 데이터에서 제외하기 를 권합니다."
   ]
  },
  {
   "cell_type": "code",
   "execution_count": 15,
   "id": "popular-parameter",
   "metadata": {},
   "outputs": [
    {
     "name": "stdout",
     "output_type": "stream",
     "text": [
      "<start> this is sample sentence . <end>\n",
      "<start> thissentence . <end>\n",
      "<start> i eat lunch <end>\n"
     ]
    }
   ],
   "source": [
    "\n",
    "def preprocess_sentence(sentence): # 입력된 문장을\n",
    "    sentence = sentence.lower().strip() # 1. 소문자로 바꾸고, 양쪽 공백을 지웁니다\n",
    "    sentence = re.sub(r\"([?.!,¿])\", r\" \\1 \", sentence) # 2. 특수문자 양쪽에 공백을 넣고\n",
    "    sentence = re.sub(r'[\" \"]+', \" \", sentence) # 3. 여러개의 공백은 하나의 공백으로 바꿉니다\n",
    "    sentence = re.sub(r\"[^a-zA-Z?.!,¿]+\", \" \", sentence) # 4. a-zA-Z?.!,¿가 아닌 모든 문자를 하나의 공백으로 바꿉니다\n",
    "    sentence = sentence.strip() # 5. 다시 양쪽 공백을 지웁니다\n",
    "    sentence = '<start> ' + sentence + ' <end>' # 6. 문장 시작에는 <start>, 끝에는 <end>를 추가합니다\n",
    "    return sentence # 이 순서로 처리해주면 문제가 되는 상황을 방지할 수 있겠네요!\n",
    "\n",
    "# 이 문장이 어떻게 필터링되는지 확인해 보세요.\n",
    "print(preprocess_sentence(\"This @_is ;;;sample        sentence.\"))\n",
    "print(preprocess_sentence(\"Thissentence.\"))   # 이 문장이 어떻게 필터링되는지 확인해 보세요.\n",
    "print(preprocess_sentence(\"I eat lunch\"))\n"
   ]
  },
  {
   "cell_type": "markdown",
   "id": "graduate-chess",
   "metadata": {},
   "source": [
    "### 3-2. corpus(말뭉치) 만들기"
   ]
  },
  {
   "cell_type": "code",
   "execution_count": 16,
   "id": "reduced-explosion",
   "metadata": {},
   "outputs": [
    {
     "data": {
      "text/plain": [
       "['<start> hook <end>',\n",
       " '<start> i ve been down so long , it look like up to me <end>',\n",
       " '<start> they look up to me <end>',\n",
       " '<start> i got fake people showin fake love to me <end>',\n",
       " '<start> straight up to my face , straight up to my face <end>',\n",
       " '<start> i ve been down so long , it look like up to me <end>',\n",
       " '<start> they look up to me <end>',\n",
       " '<start> i got fake people showin fake love to me <end>',\n",
       " '<start> somethin ain t right when we talkin <end>',\n",
       " '<start> somethin ain t right when we talkin <end>']"
      ]
     },
     "execution_count": 16,
     "metadata": {},
     "output_type": "execute_result"
    }
   ],
   "source": [
    "\n",
    "# 정제함수를 통해 만든 데이터셋에서 토큰화를 진행한 후 end단어를 없애면 소스문장,\n",
    "# 첫 단어 start를 없애면 타겟 문장이 됨\n",
    "# 이 정제함수를 활용해서 아래와 같이 정제 데이터를 구축\n",
    "# 여기에 정제된 문장을 모을겁니다\n",
    "\n",
    "corpus = []\n",
    "\n",
    "for sentence in raw_corpus: # 우리가 원하지 않는 문장은 건너뜁니다\n",
    "    if len(sentence) == 0: continue\n",
    "    if len(sentence) > 50: continue\n",
    "    if sentence[-1] == \":\": continue\n",
    "    \n",
    "    # 정제를 하고 담아주세요\n",
    "    preprocessed_sentence = preprocess_sentence(sentence)\n",
    "    corpus.append(preprocessed_sentence)\n",
    "        \n",
    "# 정제된 결과를 10개만 확인해보죠\n",
    "corpus[:10]"
   ]
  },
  {
   "cell_type": "markdown",
   "id": "nominated-change",
   "metadata": {},
   "source": [
    "### 3-3. 토큰화 진행"
   ]
  },
  {
   "cell_type": "code",
   "execution_count": 17,
   "id": "recent-stream",
   "metadata": {},
   "outputs": [
    {
     "name": "stdout",
     "output_type": "stream",
     "text": [
      "[[   2  941    3 ...    0    0    0]\n",
      " [   2    4   94 ...   10   12    3]\n",
      " [   2   46  134 ...    0    0    0]\n",
      " ...\n",
      " [   2  198    3 ...    0    0    0]\n",
      " [   2  442    9 ...    0    0    0]\n",
      " [   2    9 1610 ...    0    0    0]] <keras_preprocessing.text.Tokenizer object at 0x7f03dea67fd0>\n"
     ]
    }
   ],
   "source": [
    "import tensorflow as tf \n",
    "\n",
    "def tokenize(corpus):\n",
    "    # 텐서플로우에서 제공하는 Tokenizer 패키지를 생성\n",
    "    tokenizer = tf.keras.preprocessing.text.Tokenizer(\n",
    "        num_words=12000,  # 전체 단어의 개수 \n",
    "        filters=' ',    # 별도로 전처리 로직을 추가할 수 있습니다. 이번에는 사용하지 않겠습니다.\n",
    "        oov_token=\"<unk>\"  # out-of-vocabulary, 사전에 없었던 단어는 어떤 토큰으로 대체할지\n",
    "    )\n",
    "    tokenizer.fit_on_texts(corpus)   # 우리가 구축한 corpus로부터 Tokenizer가 사전을 자동구축하게 됩니다.\n",
    "\n",
    "    # 이후 tokenizer를 활용하여 모델에 입력할 데이터셋을 구축하게 됩니다.\n",
    "    tensor = tokenizer.texts_to_sequences(corpus)   # tokenizer는 구축한 사전으로부터 corpus를 해석해 Tensor로 변환합니다.\n",
    "\n",
    "    # 입력 데이터의 시퀀스 길이를 일정하게 맞추기 위한 padding  메소드를 제공합니다.\n",
    "    # maxlen의 디폴트값은 None입니다. 이 경우 corpus의 가장 긴 문장을 기준으로 시퀀스 길이가 맞춰집니다.\n",
    "    # maxlen=15를 설정해서 토큰의 개수가 15개를 최대로 설정, 15개 초과하는 데이터는 제외\n",
    "    tensor = tf.keras.preprocessing.sequence.pad_sequences(tensor, padding='post', maxlen=15)\n",
    "\n",
    "    print(tensor,tokenizer)\n",
    "    return tensor, tokenizer\n",
    "\n",
    "tensor, tokenizer = tokenize(corpus)"
   ]
  },
  {
   "cell_type": "code",
   "execution_count": 18,
   "id": "loaded-ensemble",
   "metadata": {},
   "outputs": [
    {
     "name": "stdout",
     "output_type": "stream",
     "text": [
      "15\n"
     ]
    }
   ],
   "source": [
    "print(len(tensor[10])) # 텐서의 길이 확인: maxlen설정으로 인해 15로 설정됨"
   ]
  },
  {
   "cell_type": "markdown",
   "id": "spiritual-custom",
   "metadata": {},
   "source": [
    "### 3-4. 인덱스 확인"
   ]
  },
  {
   "cell_type": "code",
   "execution_count": 19,
   "id": "foreign-operations",
   "metadata": {},
   "outputs": [
    {
     "name": "stdout",
     "output_type": "stream",
     "text": [
      "1 : <unk>\n",
      "2 : <start>\n",
      "3 : <end>\n",
      "4 : i\n",
      "5 : ,\n",
      "6 : the\n",
      "7 : you\n",
      "8 : and\n",
      "9 : a\n",
      "10 : to\n"
     ]
    }
   ],
   "source": [
    "for idx in tokenizer.index_word:\n",
    "    print(idx, \":\", tokenizer.index_word[idx])\n",
    "\n",
    "    if idx >= 10: break"
   ]
  },
  {
   "cell_type": "markdown",
   "id": "specific-reserve",
   "metadata": {},
   "source": [
    "### 3-5. 소스 문장, 타겟 문장"
   ]
  },
  {
   "cell_type": "code",
   "execution_count": 20,
   "id": "composite-hearts",
   "metadata": {},
   "outputs": [
    {
     "name": "stdout",
     "output_type": "stream",
     "text": [
      "[  2 941   3   0   0   0   0   0   0   0   0   0   0   0]\n",
      "[941   3   0   0   0   0   0   0   0   0   0   0   0   0]\n",
      "142443\n",
      "142443\n"
     ]
    }
   ],
   "source": [
    "src_input = tensor[:, :-1]  # tensor에서 마지막 토큰을 잘라내서 소스 문장을 생성합니다. 마지막 토큰은 <end>가 아니라 <pad>일 가능성이 높습니다.\n",
    "tgt_input = tensor[:, 1:]    # tensor에서 <start>를 잘라내서 타겟 문장을 생성합니다.\n",
    "\n",
    "print(src_input[0])\n",
    "print(tgt_input[0])\n",
    "print(len(src_input))\n",
    "print(len(tgt_input))"
   ]
  },
  {
   "cell_type": "markdown",
   "id": "professional-assumption",
   "metadata": {},
   "source": [
    "## Step 4. 평가 데이터셋 분리\n",
    "### Train, Test 데이터 분리 (Train: 80%, Test: 20%)\n",
    "\n",
    "훈련 데이터와 평가 데이터를 분리하세요!\n",
    "tokenize() 함수로 데이터를 Tensor로 변환한 후, \n",
    "\n",
    "sklearn 모듈의 train_test_split() 함수를 사용해 \n",
    "훈련 데이터와 평가 데이터를 분리하도록 하겠습니다. \n",
    "\n",
    "단어장의 크기는 12,000 이상 으로 설정하세요! \n",
    "총 데이터의 20% 를 평가 데이터셋으로 사용해 주세요!"
   ]
  },
  {
   "cell_type": "code",
   "execution_count": 21,
   "id": "devoted-eligibility",
   "metadata": {},
   "outputs": [
    {
     "name": "stdout",
     "output_type": "stream",
     "text": [
      "Source Train: (113954, 14)\n",
      "Target Train: (113954, 14)\n"
     ]
    }
   ],
   "source": [
    "# train, test 분리\n",
    "\n",
    "from sklearn.model_selection import train_test_split\n",
    "\n",
    "enc_train, enc_val, dec_train, dec_val = train_test_split(src_input,\n",
    "                                                          tgt_input,\n",
    "                                                          test_size=0.2,\n",
    "                                                          shuffle=True)\n",
    "\n",
    "print(\"Source Train:\", enc_train.shape) # 소스 문장\n",
    "print(\"Target Train:\", dec_train.shape) # 타겟 문장"
   ]
  },
  {
   "cell_type": "markdown",
   "id": "exterior-deficit",
   "metadata": {},
   "source": [
    "여기까지 올바르게 진행했을 경우, 아래 실행 결과를 확인할 수 있습니다.\n",
    "out:\n",
    "\n",
    "Source Train: (124960, 14)\n",
    "Target Train: (124960, 14)\n",
    "\n",
    "만약 결과가 다르다면 천천히 과정을 다시 살펴 동일한 결과를 얻도록 하세요!\n",
    "만약 학습 데이터 개수가 124960보다 크다면 위\n",
    "Step 3.의 데이터 정제 과정을 다시 한번 검토해 보시기를 권합니다."
   ]
  },
  {
   "cell_type": "code",
   "execution_count": 22,
   "id": "variable-quest",
   "metadata": {},
   "outputs": [
    {
     "name": "stdout",
     "output_type": "stream",
     "text": [
      "<BatchDataset shapes: ((256, 14), (256, 14)), types: (tf.int32, tf.int32)>\n",
      "<BatchDataset shapes: ((256, 14), (256, 14)), types: (tf.int32, tf.int32)>\n"
     ]
    }
   ],
   "source": [
    "BUFFER_SIZE = len(src_input)\n",
    "BATCH_SIZE = 256\n",
    "steps_per_epoch = len(src_input) // BATCH_SIZE\n",
    "\n",
    "VOCAB_SIZE = tokenizer.num_words + 1    # tokenizer가 구축한 단어사전 내 7000개와, 여기 포함되지 않은 0:<pad>를 포함하여 7001개\n",
    "\n",
    "dataset1 = tf.data.Dataset.from_tensor_slices((enc_train, dec_train)).shuffle(BUFFER_SIZE)\n",
    "dataset1 = dataset1.batch(BATCH_SIZE, drop_remainder=True)\n",
    "print(dataset1)\n",
    "\n",
    "dataset2 = tf.data.Dataset.from_tensor_slices((enc_val, dec_val)).shuffle(BUFFER_SIZE)\n",
    "dataset2 = dataset2.batch(BATCH_SIZE, drop_remainder=True)\n",
    "print(dataset2)"
   ]
  },
  {
   "cell_type": "markdown",
   "id": "uniform-universe",
   "metadata": {},
   "source": [
    "## Step 5. 인공지능 만들기\n",
    "모델의 Embedding Size와 Hidden Size를 조절하며 10 Epoch 안에 val_loss 값을 \n",
    "2.2 수준으로 줄일 수 있는 모델을 설계하세요! \n",
    "(Loss는 아래 제시된 Loss 함수를 그대로 사용!)\n",
    "그리고 멋진 모델이 생성한 가사 한 줄을 제출하시길 바랍니다!"
   ]
  },
  {
   "cell_type": "code",
   "execution_count": 23,
   "id": "productive-carry",
   "metadata": {},
   "outputs": [],
   "source": [
    "class TextGenerator(tf.keras.Model):\n",
    "    def __init__(self, vocab_size, embedding_size, hidden_size):\n",
    "        super(TextGenerator, self).__init__()\n",
    "        \n",
    "        self.embedding = tf.keras.layers.Embedding(vocab_size, embedding_size)\n",
    "        self.rnn_1 = tf.keras.layers.LSTM(hidden_size, return_sequences=True)\n",
    "        self.rnn_2 = tf.keras.layers.LSTM(hidden_size, return_sequences=True)\n",
    "        self.linear = tf.keras.layers.Dense(vocab_size)\n",
    "        \n",
    "    def call(self, x):\n",
    "        out = self.embedding(x)\n",
    "        out = self.rnn_1(out)\n",
    "        out = self.rnn_2(out)\n",
    "        out = self.linear(out)\n",
    "        \n",
    "        return out\n",
    "    \n",
    "embedding_size = 256\n",
    "\"\"\"\n",
    "embedding_size: 워드벡터의 차원수 즉, 단어가 추상적으로 표현되는 크기.\n",
    "> 입력 텐서에는 단어 사전의 인덱스가 들어 있고, Embedding 레이어는 이 인덱스 값을 해당 인덱스의 워드 벡터로 바꿔 줍니다. \n",
    "이 워드 벡터는 의미 벡터 공간에서 단어의 추상적 표현(representation)으로 사용\n",
    "embedding_size가 너무 커도 너무 작아도 문제 --> 여기서는 256로 설정\n",
    "\"\"\"\n",
    "hidden_size = 1024\n",
    "\"\"\"\n",
    "hidden_size: LSTM 레이어의 hidden state 의 차원수.\n",
    "> 얼마나 많은 일꾼을 둘 것인지? 너무 많다면 배가 산으로 가고 너무 적으면 성능이 낮다. 여기서는 1024로 적당히 설정\n",
    "\"\"\"\n",
    "model = TextGenerator(tokenizer.num_words + 1, embedding_size , hidden_size)"
   ]
  },
  {
   "cell_type": "code",
   "execution_count": 24,
   "id": "institutional-mississippi",
   "metadata": {},
   "outputs": [
    {
     "data": {
      "text/plain": [
       "'\\nshape을 확인해보면 (256,14,7001)인데 \\n7001은 Dense 레이어의 출력 차원수. 7001개의 단어 중 어느 단어의 확률이 가장 높을 지 모델링 해야함.\\n\\n256은 이전 스텝에서 배치 사이즈. dataset.take(1)을 통해 1개의 배치, 즉 256개의 문장 데이터를 가져온 것.\\n\\n14는 tf.keras.layers.LSTM(hidden_size, return_sequences=True)로 호출한 LSTM 레이어에서 return_sequences=True이라고 지정한 부분에 있다.\\n즉, LSTM은 자신에게 입력된 시퀀스의 길이만큼 동일한 길이의 시퀀스를 출력한다는 의미.\\n만약 return_sequences=False였다면 LSTM 레이어는 1개의 벡터만 출력했을 것.\\n하지만 우리의 모델은 입력 데이터의 시퀀스 길이가 얼마인지 모른다는 점. 모델을 만들면서 지정하지도 않았다.\\n즉, 데이터를 입력받으면서 비로소 알게 된 것입니다. 우리 데이터셋의 max_len이 14으로 맞춰져 있었던 것\\n'"
      ]
     },
     "execution_count": 24,
     "metadata": {},
     "output_type": "execute_result"
    }
   ],
   "source": [
    "\"\"\"\n",
    "shape을 확인해보면 (256,14,7001)인데 \n",
    "7001은 Dense 레이어의 출력 차원수. 7001개의 단어 중 어느 단어의 확률이 가장 높을 지 모델링 해야함.\n",
    "\n",
    "256은 이전 스텝에서 배치 사이즈. dataset.take(1)을 통해 1개의 배치, 즉 256개의 문장 데이터를 가져온 것.\n",
    "\n",
    "14는 tf.keras.layers.LSTM(hidden_size, return_sequences=True)로 호출한 LSTM 레이어에서 return_sequences=True이라고 지정한 부분에 있다.\n",
    "즉, LSTM은 자신에게 입력된 시퀀스의 길이만큼 동일한 길이의 시퀀스를 출력한다는 의미.\n",
    "만약 return_sequences=False였다면 LSTM 레이어는 1개의 벡터만 출력했을 것.\n",
    "하지만 우리의 모델은 입력 데이터의 시퀀스 길이가 얼마인지 모른다는 점. 모델을 만들면서 지정하지도 않았다.\n",
    "즉, 데이터를 입력받으면서 비로소 알게 된 것입니다. 우리 데이터셋의 max_len이 14으로 맞춰져 있었던 것\n",
    "\"\"\""
   ]
  },
  {
   "cell_type": "code",
   "execution_count": 25,
   "id": "seeing-norfolk",
   "metadata": {},
   "outputs": [
    {
     "name": "stdout",
     "output_type": "stream",
     "text": [
      "tf.Tensor(\n",
      "[[[-1.19578035e-04  7.10515742e-05  1.01544065e-04 ... -9.23398038e-05\n",
      "    3.92192960e-05 -2.23663985e-04]\n",
      "  [-2.99180887e-04  1.71927357e-04  1.57725939e-04 ...  1.98611611e-04\n",
      "    3.35365243e-04 -2.74922961e-04]\n",
      "  [-6.71869901e-04  4.28584928e-04  5.36475331e-04 ...  1.93150059e-04\n",
      "    5.34180494e-04 -4.10876528e-04]\n",
      "  ...\n",
      "  [-1.15281169e-03  1.72764366e-03  1.55702070e-03 ... -5.50760713e-04\n",
      "    6.93818787e-04  6.14967721e-04]\n",
      "  [-1.46292092e-03  1.74762472e-03  1.39855756e-03 ... -6.10532181e-04\n",
      "    8.82885710e-04  5.36001869e-04]\n",
      "  [-1.49951049e-03  1.78394222e-03  1.15974119e-03 ... -5.09742647e-04\n",
      "    7.30809581e-04  5.48482058e-04]]\n",
      "\n",
      " [[-1.19578035e-04  7.10515742e-05  1.01544065e-04 ... -9.23398038e-05\n",
      "    3.92192960e-05 -2.23663985e-04]\n",
      "  [-1.93107389e-05 -6.38070487e-05  8.74165853e-05 ... -2.78458290e-04\n",
      "    2.61439680e-04 -5.00608643e-04]\n",
      "  [-1.08510278e-04 -1.35596798e-04  7.40868054e-05 ... -4.17035859e-04\n",
      "    4.74299421e-04 -7.64559896e-04]\n",
      "  ...\n",
      "  [ 7.97393033e-04  1.44320482e-03 -4.85516823e-04 ...  9.58156830e-04\n",
      "   -4.52738925e-04  1.13371527e-03]\n",
      "  [ 1.01469387e-03  1.48505880e-03 -6.27927948e-04 ...  1.03527401e-03\n",
      "   -6.92510745e-04  1.43698999e-03]\n",
      "  [ 1.21951185e-03  1.50716305e-03 -7.76851317e-04 ...  1.08910154e-03\n",
      "   -9.02132597e-04  1.71343156e-03]]\n",
      "\n",
      " [[-1.19578035e-04  7.10515742e-05  1.01544065e-04 ... -9.23398038e-05\n",
      "    3.92192960e-05 -2.23663985e-04]\n",
      "  [ 7.11028042e-05  1.47003637e-04 -1.95622306e-05 ... -1.67358492e-04\n",
      "   -8.60947807e-07 -2.62944086e-04]\n",
      "  [-1.20045443e-04  4.73394379e-04  1.96944340e-04 ... -2.77915155e-04\n",
      "    2.70396667e-05 -2.04297612e-04]\n",
      "  ...\n",
      "  [ 1.03230064e-03  1.21421902e-03 -7.97882618e-04 ...  9.98665346e-04\n",
      "   -7.97518180e-04  1.60847930e-03]\n",
      "  [ 1.24682055e-03  1.24910788e-03 -9.68101725e-04 ...  1.07539166e-03\n",
      "   -9.65056475e-04  1.83826790e-03]\n",
      "  [ 1.44017849e-03  1.27603998e-03 -1.13444449e-03 ...  1.12606422e-03\n",
      "   -1.11960759e-03  2.05086102e-03]]\n",
      "\n",
      " ...\n",
      "\n",
      " [[-1.19578035e-04  7.10515742e-05  1.01544065e-04 ... -9.23398038e-05\n",
      "    3.92192960e-05 -2.23663985e-04]\n",
      "  [-3.16814869e-04  2.02359413e-04  1.66043275e-04 ... -2.20864647e-04\n",
      "    3.97904922e-04 -2.00583760e-04]\n",
      "  [-5.84239024e-04  2.04903379e-04  6.42418890e-05 ... -3.30429466e-04\n",
      "    5.96608676e-04 -4.46930295e-04]\n",
      "  ...\n",
      "  [ 2.84899841e-04  4.78908070e-04 -1.57388604e-05 ...  1.01256068e-03\n",
      "    5.05945703e-04  5.63393056e-04]\n",
      "  [ 5.21975220e-04  6.38113299e-04 -1.44177611e-04 ...  1.10788585e-03\n",
      "    1.80184143e-04  8.73971672e-04]\n",
      "  [ 7.72449654e-04  7.90030172e-04 -2.86084338e-04 ...  1.16950553e-03\n",
      "   -1.36976174e-04  1.17719220e-03]]\n",
      "\n",
      " [[-1.19578035e-04  7.10515742e-05  1.01544065e-04 ... -9.23398038e-05\n",
      "    3.92192960e-05 -2.23663985e-04]\n",
      "  [-1.22314159e-05  1.34042843e-04 -6.12290969e-05 ... -2.06893223e-04\n",
      "    1.41790020e-04 -9.11554816e-05]\n",
      "  [-7.81806884e-05  2.28278863e-04 -1.26360799e-04 ...  6.51498121e-05\n",
      "    4.61794640e-04 -1.49096477e-05]\n",
      "  ...\n",
      "  [ 6.98404736e-04  1.44766876e-03 -8.70908319e-04 ...  6.58841338e-04\n",
      "   -6.26558496e-04  1.59874489e-03]\n",
      "  [ 9.76466050e-04  1.44441065e-03 -9.99603071e-04 ...  7.65377888e-04\n",
      "   -8.41459841e-04  1.84127351e-03]\n",
      "  [ 1.22717023e-03  1.43856334e-03 -1.12934702e-03 ...  8.47884163e-04\n",
      "   -1.02940085e-03  2.06481596e-03]]\n",
      "\n",
      " [[-1.19578035e-04  7.10515742e-05  1.01544065e-04 ... -9.23398038e-05\n",
      "    3.92192960e-05 -2.23663985e-04]\n",
      "  [-6.15706027e-04 -1.56056514e-04 -6.99152370e-05 ... -1.51527187e-04\n",
      "    1.19641714e-04 -4.60088864e-04]\n",
      "  [-9.32961295e-04 -7.66264639e-05 -2.67333991e-04 ...  7.40736050e-06\n",
      "    1.70778367e-04 -6.54217496e-04]\n",
      "  ...\n",
      "  [-4.87827143e-04  1.15540100e-03  6.61513826e-04 ...  4.24688042e-04\n",
      "    2.11614039e-04  1.13275647e-03]\n",
      "  [-1.97895832e-04  1.19064865e-03  4.18665441e-04 ...  6.17021462e-04\n",
      "   -1.46897481e-04  1.32487237e-03]\n",
      "  [ 9.70924666e-05  1.22314284e-03  1.66749640e-04 ...  7.92096194e-04\n",
      "   -4.76132729e-04  1.53085857e-03]]], shape=(256, 14, 12001), dtype=float32)\n"
     ]
    },
    {
     "data": {
      "text/plain": [
       "'\\nshape을 확인해보면 (256,14,7001)인데 \\n7001은 Dense 레이어의 출력 차원수. 7001개의 단어 중 어느 단어의 확률이 가장 높을 지 모델링 해야함.\\n\\n256은 이전 스텝에서 배치 사이즈. dataset.take(1)을 통해 1개의 배치, 즉 256개의 문장 데이터를 가져온 것.\\n\\n14는 tf.keras.layers.LSTM(hidden_size, return_sequences=True)로 호출한 LSTM 레이어에서 return_sequences=True이라고 지정한 부분에 있다.\\n즉, LSTM은 자신에게 입력된 시퀀스의 길이만큼 동일한 길이의 시퀀스를 출력한다는 의미.\\n만약 return_sequences=False였다면 LSTM 레이어는 1개의 벡터만 출력했을 것.\\n하지만 우리의 모델은 입력 데이터의 시퀀스 길이가 얼마인지 모른다는 점. 모델을 만들면서 지정하지도 않았다.\\n즉, 데이터를 입력받으면서 비로소 알게 된 것입니다. 우리 데이터셋의 max_len이 14으로 맞춰져 있었던 것\\n'"
      ]
     },
     "execution_count": 25,
     "metadata": {},
     "output_type": "execute_result"
    }
   ],
   "source": [
    "\"\"\"\n",
    "model이 제대로 build가 되지 않았고 model.compile()도 호출하지 않았으며 아직 model의 입력 텐서를 제대로 지정하지 않았다.\n",
    "이럴 땐 아래와 같이 model에 데이터를 아주 조금 태워 보는 것도 방법입니다. model의 input shape가 결정되면서 model.build()가 자동으로 호출\n",
    "\"\"\"\n",
    "for src_sample, tgt_sample in dataset1.take(1): break\n",
    "print(model(src_sample))\n",
    "\"\"\"\n",
    "shape을 확인해보면 (256,14,7001)인데 \n",
    "7001은 Dense 레이어의 출력 차원수. 7001개의 단어 중 어느 단어의 확률이 가장 높을 지 모델링 해야함.\n",
    "\n",
    "256은 이전 스텝에서 배치 사이즈. dataset.take(1)을 통해 1개의 배치, 즉 256개의 문장 데이터를 가져온 것.\n",
    "\n",
    "14는 tf.keras.layers.LSTM(hidden_size, return_sequences=True)로 호출한 LSTM 레이어에서 return_sequences=True이라고 지정한 부분에 있다.\n",
    "즉, LSTM은 자신에게 입력된 시퀀스의 길이만큼 동일한 길이의 시퀀스를 출력한다는 의미.\n",
    "만약 return_sequences=False였다면 LSTM 레이어는 1개의 벡터만 출력했을 것.\n",
    "하지만 우리의 모델은 입력 데이터의 시퀀스 길이가 얼마인지 모른다는 점. 모델을 만들면서 지정하지도 않았다.\n",
    "즉, 데이터를 입력받으면서 비로소 알게 된 것입니다. 우리 데이터셋의 max_len이 14으로 맞춰져 있었던 것\n",
    "\"\"\""
   ]
  },
  {
   "cell_type": "code",
   "execution_count": 26,
   "id": "anonymous-broadcasting",
   "metadata": {},
   "outputs": [
    {
     "name": "stdout",
     "output_type": "stream",
     "text": [
      "Model: \"text_generator_1\"\n",
      "_________________________________________________________________\n",
      "Layer (type)                 Output Shape              Param #   \n",
      "=================================================================\n",
      "embedding_1 (Embedding)      multiple                  3072256   \n",
      "_________________________________________________________________\n",
      "lstm_2 (LSTM)                multiple                  5246976   \n",
      "_________________________________________________________________\n",
      "lstm_3 (LSTM)                multiple                  8392704   \n",
      "_________________________________________________________________\n",
      "dense_1 (Dense)              multiple                  12301025  \n",
      "=================================================================\n",
      "Total params: 29,012,961\n",
      "Trainable params: 29,012,961\n",
      "Non-trainable params: 0\n",
      "_________________________________________________________________\n"
     ]
    }
   ],
   "source": [
    "model.summary()"
   ]
  },
  {
   "cell_type": "code",
   "execution_count": 27,
   "id": "german-burke",
   "metadata": {},
   "outputs": [],
   "source": [
    "optimizer = tf.keras.optimizers.Adam()\n",
    "loss = tf.keras.losses.SparseCategoricalCrossentropy(\n",
    "    from_logits=True,\n",
    "    reduction='none'\n",
    ")\n",
    "\n",
    "model.compile(loss=loss, \n",
    "              optimizer=optimizer,\n",
    "              metrics=['accuracy'])"
   ]
  },
  {
   "cell_type": "code",
   "execution_count": 28,
   "id": "indirect-disability",
   "metadata": {},
   "outputs": [
    {
     "name": "stdout",
     "output_type": "stream",
     "text": [
      "Epoch 1/10\n",
      "445/445 [==============================] - 161s 355ms/step - loss: 3.8874 - accuracy: 0.4758 - val_loss: 2.9759 - val_accuracy: 0.5389\n",
      "Epoch 2/10\n",
      "445/445 [==============================] - 159s 357ms/step - loss: 2.9065 - accuracy: 0.5422 - val_loss: 2.8027 - val_accuracy: 0.5518\n",
      "Epoch 3/10\n",
      "445/445 [==============================] - 159s 356ms/step - loss: 2.7292 - accuracy: 0.5547 - val_loss: 2.6938 - val_accuracy: 0.5598\n",
      "Epoch 4/10\n",
      "445/445 [==============================] - 159s 358ms/step - loss: 2.5966 - accuracy: 0.5636 - val_loss: 2.6147 - val_accuracy: 0.5664\n",
      "Epoch 5/10\n",
      "445/445 [==============================] - 158s 355ms/step - loss: 2.4842 - accuracy: 0.5711 - val_loss: 2.5513 - val_accuracy: 0.5729\n",
      "Epoch 6/10\n",
      "445/445 [==============================] - 160s 359ms/step - loss: 2.3887 - accuracy: 0.5787 - val_loss: 2.4995 - val_accuracy: 0.5787\n",
      "Epoch 7/10\n",
      "445/445 [==============================] - 157s 353ms/step - loss: 2.2951 - accuracy: 0.5873 - val_loss: 2.4566 - val_accuracy: 0.5839\n",
      "Epoch 8/10\n",
      "445/445 [==============================] - 158s 355ms/step - loss: 2.2195 - accuracy: 0.5945 - val_loss: 2.4188 - val_accuracy: 0.5894\n",
      "Epoch 9/10\n",
      "445/445 [==============================] - 158s 356ms/step - loss: 2.1392 - accuracy: 0.6030 - val_loss: 2.3866 - val_accuracy: 0.5946\n",
      "Epoch 10/10\n",
      "445/445 [==============================] - 157s 352ms/step - loss: 2.0631 - accuracy: 0.6120 - val_loss: 2.3593 - val_accuracy: 0.5998\n"
     ]
    }
   ],
   "source": [
    "model_history = model.fit(dataset1,\n",
    "                          validation_data = dataset2,\n",
    "                          epochs=10)"
   ]
  },
  {
   "cell_type": "code",
   "execution_count": 29,
   "id": "saved-principal",
   "metadata": {},
   "outputs": [
    {
     "data": {
      "image/png": "[encoded data removed]",
      "text/plain": [
       "<Figure size 576x576 with 2 Axes>"
      ]
     },
     "metadata": {
      "needs_background": "light"
     },
     "output_type": "display_data"
    },
    {
     "name": "stdout",
     "output_type": "stream",
     "text": [
      "✅\n"
     ]
    }
   ],
   "source": [
    "import matplotlib.pyplot as plt\n",
    "\n",
    "acc = model_history.history['accuracy']\n",
    "val_acc = model_history.history['val_accuracy']\n",
    "\n",
    "loss=model_history.history['loss']\n",
    "val_loss=model_history.history['val_loss']\n",
    "\n",
    "epochs_range = range(len(acc))\n",
    "\n",
    "plt.figure(figsize=(8, 8))\n",
    "plt.subplot(1, 2, 1)\n",
    "plt.plot(epochs_range, acc, label='Training Accuracy')\n",
    "plt.plot(epochs_range, val_acc, label='Validation Accuracy')\n",
    "plt.legend(loc='lower right')\n",
    "plt.title('Training and Validation Accuracy')\n",
    "\n",
    "plt.subplot(1, 2, 2)\n",
    "plt.plot(epochs_range, loss, label='Training Loss')\n",
    "plt.plot(epochs_range, val_loss, label='Validation Loss')\n",
    "plt.legend(loc='upper right')\n",
    "plt.title('Training and Validation Loss')\n",
    "plt.show()\n",
    "print(\"✅\")"
   ]
  },
  {
   "cell_type": "markdown",
   "id": "sized-blake",
   "metadata": {},
   "source": [
    "### 5-2 평가하기\n",
    "- 시작 문장을 입력하면 입력된 값을 바탕으로 모델이 작문을 하는 함수 작성"
   ]
  },
  {
   "cell_type": "code",
   "execution_count": 30,
   "id": "documentary-sleep",
   "metadata": {},
   "outputs": [],
   "source": [
    "def generate_text(model, tokenizer, init_sentence=\"<start>\", max_len=20):\n",
    "    # 테스트를 위해서 입력받은 init_sentence도 일단 텐서로 변환합니다.\n",
    "    test_input = tokenizer.texts_to_sequences([init_sentence])\n",
    "    test_tensor = tf.convert_to_tensor(test_input, dtype=tf.int64)\n",
    "    end_token = tokenizer.word_index[\"<end>\"]\n",
    "\n",
    "    # 텍스트를 실제로 생성할때는 루프를 돌면서 단어 하나씩 생성해야 합니다. \n",
    "    while True:\n",
    "        predict = model(test_tensor)  # 입력받은 문장의 텐서를 입력합니다. \n",
    "        predict_word = tf.argmax(tf.nn.softmax(predict, axis=-1), axis=-1)[:, -1]   # 우리 모델이 예측한 마지막 단어가 바로 새롭게 생성한 단어가 됩니다. \n",
    "\n",
    "        # 우리 모델이 새롭게 예측한 단어를 입력 문장의 뒤에 붙여 줍니다. \n",
    "        test_tensor = tf.concat([test_tensor, tf.expand_dims(predict_word, axis=0)], axis=-1)\n",
    "\n",
    "        # 우리 모델이 <end>를 예측했거나, max_len에 도달하지 않았다면  while 루프를 또 돌면서 다음 단어를 예측해야 합니다.\n",
    "        if predict_word.numpy()[0] == end_token: break\n",
    "        if test_tensor.shape[1] >= max_len: break\n",
    "\n",
    "    generated = \"\"\n",
    "    # 생성된 tensor 안에 있는 word index를 tokenizer.index_word 사전을 통해 실제 단어로 하나씩 변환합니다. \n",
    "    for word_index in test_tensor[0].numpy():\n",
    "        generated += tokenizer.index_word[word_index] + \" \"\n",
    "\n",
    "    return generated   # 이것이 최종적으로 모델이 생성한 자연어 문장입니다."
   ]
  },
  {
   "cell_type": "code",
   "execution_count": 38,
   "id": "portable-invalid",
   "metadata": {},
   "outputs": [
    {
     "data": {
      "text/plain": [
       "'<start> i m the one gon hold you down <end> '"
      ]
     },
     "execution_count": 38,
     "metadata": {},
     "output_type": "execute_result"
    }
   ],
   "source": [
    "generate_text(model, tokenizer, init_sentence=\"<start> i\", max_len=20)"
   ]
  },
  {
   "cell_type": "code",
   "execution_count": 39,
   "id": "bigger-metro",
   "metadata": {},
   "outputs": [],
   "source": [
    "ai_keyword = [\"i\", \"love\"]"
   ]
  },
  {
   "cell_type": "code",
   "execution_count": 40,
   "id": "offensive-combining",
   "metadata": {},
   "outputs": [
    {
     "name": "stdout",
     "output_type": "stream",
     "text": [
      "i m so much , i m not a little bit <end> \n",
      "love is , baby , baby , baby , baby , baby , baby <end> \n"
     ]
    }
   ],
   "source": [
    "for i in ai_keyword:\n",
    "    print(generate_text(model, tokenizer, init_sentence=i, max_len=50))"
   ]
  },
  {
   "cell_type": "markdown",
   "id": "elementary-marking",
   "metadata": {},
   "source": [
    "Q4. 모델이 생성한 가사 한 줄을 제출하세요."
   ]
  },
  {
   "cell_type": "markdown",
   "id": "right-remedy",
   "metadata": {},
   "source": [
    "평가문항|상세기준\n",
    "---|---\n",
    "1. 가사 텍스트 생성 모델이 정상적으로 동작하는가?|텍스트 제너레이션 결과가 그럴듯한 문장으로 생성되는가?\n",
    "2. 데이터의 전처리와 데이터셋 구성 과정이 체계적으로 진행되었는가?|특수문자 제거, 토크나이저 생성, 패딩처리 등의 과정이 빠짐없이 진행되었는가?\n",
    "3. 텍스트 생성모델이 안정적으로 학습되었는가?|텍스트 생성모델의 validation loss가 2.2 이하로 낮아졌는가?"
   ]
  },
  {
   "cell_type": "markdown",
   "id": "solar-poultry",
   "metadata": {},
   "source": [
    "1) 기존에 사용했던 CNN + Dense와 어떤차이가있을까\n",
    "가위바위보 했던 \n",
    "LSTM\n",
    "어텐션\n",
    "\n",
    "\n",
    "2) pad를 왜 사용해야할까\n",
    "\n",
    "토크나이저\n",
    "\n",
    "패딩\n",
    "\n",
    "쀍쀍 데이터\n",
    "\n",
    "3)4-4처럼 학습하면 결과물로 어떤 결과가 나온건지에 대해\n",
    "\n"
   ]
  }
 ],
 "metadata": {
  "kernelspec": {
   "display_name": "Python 3",
   "language": "python",
   "name": "python3"
  },
  "language_info": {
   "codemirror_mode": {
    "name": "ipython",
    "version": 3
   },
   "file_extension": ".py",
   "mimetype": "text/x-python",
   "name": "python",
   "nbconvert_exporter": "python",
   "pygments_lexer": "ipython3",
   "version": "3.7.9"
  }
 },
 "nbformat": 4,
 "nbformat_minor": 5
}
